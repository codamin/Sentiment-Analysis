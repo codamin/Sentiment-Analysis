{
 "cells": [
  {
   "cell_type": "markdown",
   "metadata": {},
   "source": [
    "# Naive Bayes Text Classification"
   ]
  },
  {
   "cell_type": "markdown",
   "metadata": {},
   "source": [
    "We have a two datasets of Digikala comments and each comment has a label :'recommended' or 'not_recommended'. We will use training dataset for training a naive bayes classifier. Then we will predict the "
   ]
  },
  {
   "cell_type": "code",
   "execution_count": 189,
   "metadata": {},
   "outputs": [],
   "source": [
    "import numpy as np\n",
    "import pandas as pd\n",
    "from hazm import Normalizer, Stemmer, Lemmatizer, word_tokenize, stopwords_list, POSTagger"
   ]
  },
  {
   "cell_type": "code",
   "execution_count": 190,
   "metadata": {},
   "outputs": [],
   "source": [
    "normalizer = Normalizer()\n",
    "stemmer = Stemmer()\n",
    "lemmatizer = Lemmatizer()"
   ]
  },
  {
   "cell_type": "code",
   "execution_count": 191,
   "metadata": {},
   "outputs": [],
   "source": [
    "data_folder = './CA3_dataset/'\n",
    "data_train = pd.read_csv(data_folder + 'comment_train.csv')\n",
    "data_test = pd.read_csv(data_folder + 'comment_test.csv')"
   ]
  },
  {
   "cell_type": "code",
   "execution_count": 192,
   "metadata": {},
   "outputs": [],
   "source": [
    "class FeedbackClassifier():\n",
    "    \n",
    "    def __init__(self, preProcess = True):\n",
    "        self.preProcess = preProcess\n",
    "        self.sw = set(stopwords_list()[:30])\n",
    "        \n",
    "    def normalize_text(self, text):\n",
    "        return normalizer.normalize(text)\n",
    "    \n",
    "    def stemLem(self, words):\n",
    "        words = self.remove_stops(words)\n",
    "        for i in range(len(words)):\n",
    "            words[i] = lemmatizer.lemmatize(words[i])\n",
    "            words[i] = stemmer.stem(words[i])\n",
    "            \n",
    "        return words\n",
    "    \n",
    "    def count_words(self, words):\n",
    "        result = {}\n",
    "        for w in words:\n",
    "            if w in result:\n",
    "                result[w] += 1\n",
    "            else:\n",
    "                result[w] = 0\n",
    "        return {k: v for k, v in reversed(sorted(result.items(), key=lambda item: item[1]))}\n",
    "    \n",
    "    def remove_stops(self, words):\n",
    "        for w in words:\n",
    "            if w in self.sw:\n",
    "                words.remove(w)\n",
    "        return words\n",
    "    \n",
    "    def merge_columns(self, data):\n",
    "        data['combined'] = data['title'] + ' ' + data['comment']\n",
    "        data = data.drop(columns=['title', 'comment'])\n",
    "        return data\n",
    "    \n",
    "    def fit(self, data_train, alpha = 1, additive_smooth = True):\n",
    "        data_train = self.merge_columns(data_train)\n",
    "        \n",
    "        data_train_good = data_train[data_train['recommend'] == 'recommended']\n",
    "        data_train_bad = data_train[data_train['recommend'] == 'not_recommended']\n",
    "        \n",
    "        good_text = data_train_good['combined'].str.cat(sep=' ')\n",
    "        bad_text = data_train_bad['combined'].str.cat(sep=' ')\n",
    "        \n",
    "        if self.preProcess:\n",
    "            good_text = self.normalize_text(good_text)\n",
    "            bad_text = self.normalize_text(bad_text)\n",
    "             \n",
    "        good_words = word_tokenize(good_text)\n",
    "        bad_words = word_tokenize(bad_text)\n",
    "        \n",
    "        if self.preProcess:\n",
    "            good_words = self.stemLem(good_words)\n",
    "            bad_words = self.stemLem(bad_words)\n",
    "        \n",
    "        self.good_prior = np.log(len(data_train_good) / len(data_train))\n",
    "        self.bad_prior = np.log(len(data_train_bad) / len(data_train))\n",
    "        \n",
    "        self.vocabulary = set()\n",
    "        for w in good_words + bad_words:\n",
    "            if self.preProcess and w not in self.sw:\n",
    "                self.vocabulary.add(w)\n",
    "            else:\n",
    "                self.vocabulary.add(w)\n",
    "        \n",
    "        good_words_count = self.count_words(good_words)\n",
    "        bad_words_count = self.count_words(bad_words)\n",
    "        \n",
    "        self.loglh_good = {}\n",
    "        \n",
    "        for w in self.vocabulary:\n",
    "            if additive_smooth:\n",
    "                nom = good_words_count.get(w, 0) + 1                \n",
    "                denom = len(good_words) + len(self.vocabulary) * alpha\n",
    "                self.loglh_good[w] =  np.log(nom / denom)\n",
    "            else:\n",
    "                nom = good_words_count.get(w, 0) + 1e2\n",
    "                denom = len(good_words)\n",
    "                self.loglh_good[w] = np.log(nom / denom)\n",
    "            \n",
    "        self.loglh_bad = {}\n",
    "        for w in self.vocabulary:\n",
    "            if additive_smooth:\n",
    "                nom = bad_words_count.get(w, 0) + 1\n",
    "                denom = len(bad_words) + len(self.vocabulary) * alpha\n",
    "                self.loglh_bad[w] =  np.log(nom / denom)\n",
    "            else:\n",
    "                nom = bad_words_count.get(w, 0) + 1e2\n",
    "                denom = len(bad_words)\n",
    "                self.loglh_bad[w] = np.log(nom / denom)\n",
    "                \n",
    "    def _predict(self, words):\n",
    "        pred_for_good = self.good_prior                \n",
    "        pred_for_bad = self.bad_prior\n",
    "        \n",
    "        for w in words:\n",
    "            if w in self.vocabulary:\n",
    "                pred_for_good += self.loglh_good[w]\n",
    "                pred_for_bad += self.loglh_bad[w]\n",
    "                \n",
    "        if pred_for_good > pred_for_bad:\n",
    "            return 'recommended'\n",
    "        else:\n",
    "            return 'not_recommended'\n",
    "    \n",
    "    def predict(self, data_test):\n",
    "        data_test = self.merge_columns(data_test)['combined'].to_numpy()\n",
    "        preds = []\n",
    "        for text in data_test:\n",
    "            if self.preProcess:\n",
    "                text = self.normalize_text(text)\n",
    "            words = word_tokenize(text)\n",
    "            if self.preProcess:\n",
    "                words = self.stemLem(words)\n",
    "            preds.append(self._predict(words))\n",
    "        return preds\n",
    "\n",
    "    def print_metrics(self, acc, confusion_matrix):\n",
    "        correct_detected_recommended = confusion_matrix[1][1]\n",
    "        all_detected_recommended = confusion_matrix.sum(0)[1]\n",
    "        total_recommended = confusion_matrix.sum(1)[1]\n",
    "\n",
    "        presision = correct_detected_recommended / all_detected_recommended\n",
    "        recall = correct_detected_recommended / total_recommended\n",
    "        f1 = 2 * (presision * recall) / (presision + recall)\n",
    "\n",
    "        print('accuracy:', acc)\n",
    "        print('presision:', presision)\n",
    "        print('recall:', recall)\n",
    "        print('f1-score:', f1)\n",
    "    \n",
    "    def score(self, data_test):\n",
    "        confusion_matrix = np.zeros((2,2))\n",
    "        preds = self.predict(data_test)\n",
    "        accuracy = (preds == data_test['recommend']).sum() / len(data_test)\n",
    "        class_idx = {'recommended': 1, 'not_recommended': 0}\n",
    "        for i in range(len(preds)):\n",
    "            confusion_matrix[class_idx[data_test['recommend'].iloc[i]], class_idx[preds[i]]] += 1\n",
    "        \n",
    "        self.print_metrics(accuracy, confusion_matrix)"
   ]
  },
  {
   "cell_type": "code",
   "execution_count": 193,
   "metadata": {},
   "outputs": [
    {
     "name": "stdout",
     "output_type": "stream",
     "text": [
      "accuracy: 0.91875\n",
      "presision: 0.9055690072639225\n",
      "recall: 0.935\n",
      "f1-score: 0.9200492004920049\n"
     ]
    }
   ],
   "source": [
    "feedbackClassifier = FeedbackClassifier(preProcess=True)\n",
    "feedbackClassifier.fit(data_train, alpha=1, additive_smooth=True)\n",
    "feedbackClassifier.score(data_test)"
   ]
  },
  {
   "cell_type": "code",
   "execution_count": 194,
   "metadata": {},
   "outputs": [
    {
     "name": "stdout",
     "output_type": "stream",
     "text": [
      "accuracy: 0.92375\n",
      "presision: 0.910411622276029\n",
      "recall: 0.94\n",
      "f1-score: 0.9249692496924968\n"
     ]
    }
   ],
   "source": [
    "feedbackClassifier = FeedbackClassifier(preProcess=False)\n",
    "feedbackClassifier.fit(data_train, alpha=1, additive_smooth=True)\n",
    "feedbackClassifier.score(data_test)"
   ]
  },
  {
   "cell_type": "code",
   "execution_count": 195,
   "metadata": {},
   "outputs": [
    {
     "name": "stdout",
     "output_type": "stream",
     "text": [
      "accuracy: 0.82875\n",
      "presision: 0.9255663430420712\n",
      "recall: 0.715\n",
      "f1-score: 0.8067700987306065\n"
     ]
    }
   ],
   "source": [
    "feedbackClassifier = FeedbackClassifier(preProcess=True)\n",
    "feedbackClassifier.fit(data_train, alpha=1, additive_smooth=False)\n",
    "feedbackClassifier.score(data_test)"
   ]
  },
  {
   "cell_type": "code",
   "execution_count": 196,
   "metadata": {},
   "outputs": [
    {
     "name": "stdout",
     "output_type": "stream",
     "text": [
      "accuracy: 0.82875\n",
      "presision: 0.933993399339934\n",
      "recall: 0.7075\n",
      "f1-score: 0.8051209103840682\n"
     ]
    }
   ],
   "source": [
    "feedbackClassifier = FeedbackClassifier(preProcess=False)\n",
    "feedbackClassifier.fit(data_train, alpha=1, additive_smooth=False)\n",
    "feedbackClassifier.score(data_test)"
   ]
  }
 ],
 "metadata": {
  "kernelspec": {
   "display_name": "Python 3",
   "language": "python",
   "name": "python3"
  },
  "language_info": {
   "codemirror_mode": {
    "name": "ipython",
    "version": 3
   },
   "file_extension": ".py",
   "mimetype": "text/x-python",
   "name": "python",
   "nbconvert_exporter": "python",
   "pygments_lexer": "ipython3",
   "version": "3.7.6"
  }
 },
 "nbformat": 4,
 "nbformat_minor": 4
}
