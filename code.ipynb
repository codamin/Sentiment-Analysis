{
 "cells": [
  {
   "cell_type": "code",
   "execution_count": 1,
   "metadata": {},
   "outputs": [],
   "source": [
    "import numpy as np\n",
    "import pandas as pd\n",
    "from hazm import Normalizer, Stemmer, Lemmatizer, word_tokenize, stopwords_list, POSTagger"
   ]
  },
  {
   "cell_type": "code",
   "execution_count": 2,
   "metadata": {},
   "outputs": [],
   "source": [
    "normalizer = Normalizer()\n",
    "stemmer = Stemmer()\n",
    "lemmatizer = Lemmatizer()"
   ]
  },
  {
   "cell_type": "code",
   "execution_count": 3,
   "metadata": {},
   "outputs": [],
   "source": [
    "data_folder = './CA3_dataset/'\n",
    "data_train = pd.read_csv(data_folder + 'comment_train.csv')\n",
    "data_test = pd.read_csv(data_folder + 'comment_test.csv')"
   ]
  },
  {
   "cell_type": "code",
   "execution_count": 60,
   "metadata": {},
   "outputs": [],
   "source": [
    "class FeedbackClassifier():\n",
    "    \n",
    "    def __init__(self, doPreProcess = True):\n",
    "        self.preprocess = doPreProcess\n",
    "        \n",
    "    def normalize_text(self, text):\n",
    "        return normalizer.normalize(text)\n",
    "    \n",
    "    def stemLem(self, words):\n",
    "        for i in range(len(words)):\n",
    "            words[i] = lemmatizer.lemmatize(words[i])\n",
    "            words[i] = stemmer.stem(words[i])\n",
    "        return words\n",
    "    \n",
    "    def count_words(self, words):\n",
    "        result = {}\n",
    "        for w in words:\n",
    "            if w in result:\n",
    "                result[w] += 1\n",
    "            else:\n",
    "                result[w] = 0\n",
    "        return {k: v for k, v in reversed(sorted(result.items(), key=lambda item: item[1]))}\n",
    "\n",
    "    def merge_columns(self, data):\n",
    "        data['combined'] = data['title'] + ' ' + data['comment']\n",
    "        data = data.drop(columns=['title', 'comment'])\n",
    "        return data\n",
    "    \n",
    "    def fit(self, data_train, alpha = 1, additive_smooth = True):\n",
    "        data_train = self.merge_columns(data_train)\n",
    "        \n",
    "        data_train_good = data_train[data_train['recommend'] == 'recommended']\n",
    "        data_train_bad = data_train[data_train['recommend'] == 'not_recommended']\n",
    "        \n",
    "        good_text = data_train_good['combined'].str.cat(sep=' ')\n",
    "        bad_text = data_train_bad['combined'].str.cat(sep=' ')\n",
    "        \n",
    "        if self.preprocess:\n",
    "#             print('normalizing data...')\n",
    "            good_text = self.normalize_text(good_text)\n",
    "            bad_text = self.normalize_text(bad_text)\n",
    "#             print('finished normalizing data...')\n",
    "             \n",
    "        good_words = word_tokenize(good_text)\n",
    "        bad_words = word_tokenize(bad_text)\n",
    "        \n",
    "        if self.preprocess:\n",
    "            good_words = self.stemLem(good_words)\n",
    "            bad_words = self.stemLem(bad_words)\n",
    "        \n",
    "        self.good_prior = np.log(len(data_train_good) / len(data_train))\n",
    "        self.bad_prior = np.log(len(data_train_bad) / len(data_train))\n",
    "\n",
    "        self.vocabulary = good_words  + bad_words\n",
    "        \n",
    "        good_words_count = self.count_words(good_words)\n",
    "        bad_words_count = self.count_words(bad_words)\n",
    "        \n",
    "        self.loglh_good = {}\n",
    "        for w in self.vocabulary:\n",
    "            if additive_smooth:\n",
    "                nom = good_words_count.get(w, 0) + 1\n",
    "                denom = len(good_words) + len(self.vocabulary) * alpha\n",
    "                self.loglh_good[w] =  np.log(nom / denom)\n",
    "            else:\n",
    "                nom = good_words_count.get(w, 0)\n",
    "                denom = len(good_words)\n",
    "                self.loglh_good[w] = np.log(nom / denom)\n",
    "            \n",
    "        self.loglh_bad = {}\n",
    "        for w in self.vocabulary:\n",
    "            if additive_smooth:\n",
    "                nom = bad_words_count.get(w, 0) + 1\n",
    "                denom = len(bad_words) + len(self.vocabulary) * alpha\n",
    "                self.loglh_bad[w] =  np.log(nom / denom)\n",
    "            else:\n",
    "                nom = bad_words_count.get(w, 0)\n",
    "                denom = len(bad_words)\n",
    "                self.loglh_bad[w] = np.log(nom / denom)\n",
    "                \n",
    "    def _predict(self, words):\n",
    "        pred_for_good = self.good_prior                \n",
    "        pred_for_bad = self.bad_prior\n",
    "        \n",
    "        for w in words:\n",
    "            if w in self.vocabulary:\n",
    "                pred_for_good += self.loglh_good[w]\n",
    "                pred_for_bad += self.loglh_bad[w]\n",
    "                \n",
    "        if pred_for_good > pred_for_bad:\n",
    "            return 'recommended'\n",
    "        else:\n",
    "            return 'not_recommended'\n",
    "    \n",
    "    def predict(self, data_test):\n",
    "        data_test = self.merge_columns(data_test)['combined'].to_numpy()\n",
    "        preds = []\n",
    "        for t in data_test:\n",
    "            text = self.normalize_text(t)\n",
    "            words = self.stemLem(word_tokenize(text))\n",
    "            preds.append(self._predict(words))\n",
    "        return preds\n",
    "        \n",
    "#         return data_test['combined'].apply(lambda x : self._predict(x))\n"
   ]
  },
  {
   "cell_type": "code",
   "execution_count": 61,
   "metadata": {},
   "outputs": [],
   "source": [
    "feedbackClassifier = FeedbackClassifier(doPreProcess = False)"
   ]
  },
  {
   "cell_type": "code",
   "execution_count": 62,
   "metadata": {},
   "outputs": [],
   "source": [
    "feedbackClassifier.fit(data_train)"
   ]
  },
  {
   "cell_type": "code",
   "execution_count": 63,
   "metadata": {},
   "outputs": [
    {
     "data": {
      "text/plain": [
       "0.85875"
      ]
     },
     "execution_count": 63,
     "metadata": {},
     "output_type": "execute_result"
    }
   ],
   "source": [
    "preds = feedbackClassifier.predict(data_test)\n",
    "(preds == data_test['recommend']).sum() / len(data_test)"
   ]
  }
 ],
 "metadata": {
  "kernelspec": {
   "display_name": "Python 3",
   "language": "python",
   "name": "python3"
  },
  "language_info": {
   "codemirror_mode": {
    "name": "ipython",
    "version": 3
   },
   "file_extension": ".py",
   "mimetype": "text/x-python",
   "name": "python",
   "nbconvert_exporter": "python",
   "pygments_lexer": "ipython3",
   "version": "3.7.6"
  }
 },
 "nbformat": 4,
 "nbformat_minor": 4
}
