{
 "cells": [
  {
   "cell_type": "code",
   "execution_count": 10,
   "metadata": {},
   "outputs": [],
   "source": [
    "import pandas as pd\n",
    "import hazm"
   ]
  },
  {
   "cell_type": "code",
   "execution_count": 6,
   "metadata": {},
   "outputs": [],
   "source": [
    "data_folder = './CA3_dataset/'\n",
    "data_train = pd.read_csv(data_folder + 'comment_train.csv')\n",
    "data_test = pd.read_csv(data_folder + 'comment_test.csv')"
   ]
  },
  {
   "cell_type": "code",
   "execution_count": 23,
   "metadata": {},
   "outputs": [
    {
     "data": {
      "text/plain": [
       "'دوربین واقعا با این قیمت ارزش خرید دارد \\r\\nعکسها به لطف لنز خوب سامسونگ و حسگر بزرگ دوربین از کیفیت خوبی بهرمند هستند\\r\\nکیفیت نمایشگر عالی هست\\r\\nباتری عالی هست\\r\\nفقط دقت کنید فریمور بدنه و لنز رو آپدیت کنید \\r\\nبنده تو این آشفته بازار ارز این دوربین رو برای عکاسان آماتور ۱۰۰درصد پیشنهاد میکنم'"
      ]
     },
     "execution_count": 23,
     "metadata": {},
     "output_type": "execute_result"
    }
   ],
   "source": [
    "data_train[10:20]['comment'].iloc[0]"
   ]
  },
  {
   "cell_type": "code",
   "execution_count": 12,
   "metadata": {},
   "outputs": [],
   "source": [
    "normalizer = hazm.Normalizer()\n",
    "stemmer = hazm.Stemmer()\n",
    "lemmatizer = hazm.Lemmatizer()"
   ]
  },
  {
   "cell_type": "code",
   "execution_count": 24,
   "metadata": {},
   "outputs": [
    {
     "data": {
      "text/plain": [
       "'دوربین واقعا با این قیمت ارزش خرید دارد \\nعکسها به لطف لنز خوب سامسونگ و حسگر بزرگ دوربین از کیفیت خوبی بهرمند هستند\\nکیفیت نمایشگر عالی هست\\nباتری عالی هست\\nفقط دقت کنید فریمور بدنه و لنز رو آپدیت کنید \\nبنده تو این آشفته بازار ارز این دوربین رو برای عکاسان آماتور ۱۰۰درصد پیشنهاد میکنم'"
      ]
     },
     "execution_count": 24,
     "metadata": {},
     "output_type": "execute_result"
    }
   ],
   "source": [
    "data_train['comment'][10:20].apply(lambda x : normalizer.normalize(x)).iloc[0]"
   ]
  },
  {
   "cell_type": "code",
   "execution_count": null,
   "metadata": {},
   "outputs": [],
   "source": []
  }
 ],
 "metadata": {
  "kernelspec": {
   "display_name": "Python 3",
   "language": "python",
   "name": "python3"
  },
  "language_info": {
   "codemirror_mode": {
    "name": "ipython",
    "version": 3
   },
   "file_extension": ".py",
   "mimetype": "text/x-python",
   "name": "python",
   "nbconvert_exporter": "python",
   "pygments_lexer": "ipython3",
   "version": "3.7.6"
  }
 },
 "nbformat": 4,
 "nbformat_minor": 4
}
